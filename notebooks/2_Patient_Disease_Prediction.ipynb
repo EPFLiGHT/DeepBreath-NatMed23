{
 "cells": [
  {
   "cell_type": "markdown",
   "metadata": {},
   "source": [
    "# Patient Model: Diagnostis Classification"
   ]
  },
  {
   "cell_type": "code",
   "execution_count": 1,
   "metadata": {},
   "outputs": [
    {
     "name": "stdout",
     "output_type": "stream",
     "text": [
      "/home/julien/Desktop/PDM/GitHub/DeepBreath-disease-Julien/src\n"
     ]
    }
   ],
   "source": [
    "%cd .."
   ]
  },
  {
   "cell_type": "code",
   "execution_count": 2,
   "metadata": {
    "tags": []
   },
   "outputs": [],
   "source": [
    "import random\n",
    "\n",
    "import matplotlib.pyplot as plt\n",
    "import numpy as np\n",
    "import pandas as pd\n",
    "from os.path import join\n",
    "\n",
    "from config import SEED, pipeline_config\n",
    "\n",
    "# Set random seeds and deterministic pytorch for reproducibility\n",
    "random.seed(SEED)       # python random seed\n",
    "np.random.seed(SEED) # numpy random seed\n",
    "\n",
    "%matplotlib inline"
   ]
  },
  {
   "cell_type": "code",
   "execution_count": 3,
   "metadata": {},
   "outputs": [],
   "source": [
    "from sklearn.metrics import classification_report, confusion_matrix\n",
    "from sklearn.pipeline import make_pipeline\n",
    "\n",
    "from sklearn.preprocessing import MinMaxScaler\n",
    "from sklearn.preprocessing import MaxAbsScaler\n",
    "from sklearn.preprocessing import StandardScaler\n",
    "from sklearn.preprocessing import Normalizer\n",
    "\n",
    "from sklearn.neighbors import KNeighborsClassifier\n",
    "from sklearn.svm import SVC, LinearSVC\n",
    "from sklearn.naive_bayes import GaussianNB\n",
    "from sklearn.linear_model import LogisticRegression"
   ]
  },
  {
   "cell_type": "code",
   "execution_count": 4,
   "metadata": {},
   "outputs": [],
   "source": [
    "classes = [\"Control\", \"Bact. Pneumonia\", \"Viral Pneumonia\", \"Obst. Bronchitis\", \"Asthma\", \"Bronchiolitis\"]\n",
    "n_classes = len(classes)\n",
    "patient_df = pd.read_csv(\"../data/patient_df.csv\")\n",
    "train_loc = pipeline_config[\"train_loc\"]"
   ]
  },
  {
   "cell_type": "code",
   "execution_count": 5,
   "metadata": {},
   "outputs": [
    {
     "data": {
      "text/html": [
       "<div>\n",
       "<style scoped>\n",
       "    .dataframe tbody tr th:only-of-type {\n",
       "        vertical-align: middle;\n",
       "    }\n",
       "\n",
       "    .dataframe tbody tr th {\n",
       "        vertical-align: top;\n",
       "    }\n",
       "\n",
       "    .dataframe thead th {\n",
       "        text-align: right;\n",
       "    }\n",
       "</style>\n",
       "<table border=\"1\" class=\"dataframe\">\n",
       "  <thead>\n",
       "    <tr style=\"text-align: right;\">\n",
       "      <th></th>\n",
       "      <th>patient</th>\n",
       "      <th>location</th>\n",
       "      <th>fold</th>\n",
       "      <th>diagnosis</th>\n",
       "      <th>old_diagnosis</th>\n",
       "      <th>all_diagnoses</th>\n",
       "      <th>multilabel</th>\n",
       "    </tr>\n",
       "  </thead>\n",
       "  <tbody>\n",
       "    <tr>\n",
       "      <th>0</th>\n",
       "      <td>Pn_GVA_Co1</td>\n",
       "      <td>GVA</td>\n",
       "      <td>4</td>\n",
       "      <td>0</td>\n",
       "      <td>0</td>\n",
       "      <td>[0]</td>\n",
       "      <td>False</td>\n",
       "    </tr>\n",
       "    <tr>\n",
       "      <th>1</th>\n",
       "      <td>Pn_GVA_Co2</td>\n",
       "      <td>GVA</td>\n",
       "      <td>0</td>\n",
       "      <td>0</td>\n",
       "      <td>0</td>\n",
       "      <td>[0]</td>\n",
       "      <td>False</td>\n",
       "    </tr>\n",
       "    <tr>\n",
       "      <th>2</th>\n",
       "      <td>Pn_GVA_Co3</td>\n",
       "      <td>GVA</td>\n",
       "      <td>1</td>\n",
       "      <td>0</td>\n",
       "      <td>0</td>\n",
       "      <td>[0]</td>\n",
       "      <td>False</td>\n",
       "    </tr>\n",
       "    <tr>\n",
       "      <th>3</th>\n",
       "      <td>Pn_GVA_Co4</td>\n",
       "      <td>GVA</td>\n",
       "      <td>2</td>\n",
       "      <td>0</td>\n",
       "      <td>0</td>\n",
       "      <td>[0]</td>\n",
       "      <td>False</td>\n",
       "    </tr>\n",
       "    <tr>\n",
       "      <th>4</th>\n",
       "      <td>Pn_GVA_Co5</td>\n",
       "      <td>GVA</td>\n",
       "      <td>3</td>\n",
       "      <td>0</td>\n",
       "      <td>0</td>\n",
       "      <td>[0]</td>\n",
       "      <td>False</td>\n",
       "    </tr>\n",
       "    <tr>\n",
       "      <th>...</th>\n",
       "      <td>...</td>\n",
       "      <td>...</td>\n",
       "      <td>...</td>\n",
       "      <td>...</td>\n",
       "      <td>...</td>\n",
       "      <td>...</td>\n",
       "      <td>...</td>\n",
       "    </tr>\n",
       "    <tr>\n",
       "      <th>588</th>\n",
       "      <td>Pn_RBA_Ca27</td>\n",
       "      <td>RBA</td>\n",
       "      <td>4</td>\n",
       "      <td>4</td>\n",
       "      <td>-1</td>\n",
       "      <td>[4]</td>\n",
       "      <td>False</td>\n",
       "    </tr>\n",
       "    <tr>\n",
       "      <th>589</th>\n",
       "      <td>Pn_RBA_Ca28</td>\n",
       "      <td>RBA</td>\n",
       "      <td>0</td>\n",
       "      <td>4</td>\n",
       "      <td>-1</td>\n",
       "      <td>[4]</td>\n",
       "      <td>False</td>\n",
       "    </tr>\n",
       "    <tr>\n",
       "      <th>590</th>\n",
       "      <td>Pn_RBA_Ca33</td>\n",
       "      <td>RBA</td>\n",
       "      <td>1</td>\n",
       "      <td>4</td>\n",
       "      <td>-1</td>\n",
       "      <td>[4]</td>\n",
       "      <td>False</td>\n",
       "    </tr>\n",
       "    <tr>\n",
       "      <th>591</th>\n",
       "      <td>Pn_RBA_Ca34</td>\n",
       "      <td>RBA</td>\n",
       "      <td>2</td>\n",
       "      <td>4</td>\n",
       "      <td>-1</td>\n",
       "      <td>[4]</td>\n",
       "      <td>False</td>\n",
       "    </tr>\n",
       "    <tr>\n",
       "      <th>592</th>\n",
       "      <td>Pn_RBA_Ca35</td>\n",
       "      <td>RBA</td>\n",
       "      <td>3</td>\n",
       "      <td>4</td>\n",
       "      <td>-1</td>\n",
       "      <td>[4]</td>\n",
       "      <td>False</td>\n",
       "    </tr>\n",
       "  </tbody>\n",
       "</table>\n",
       "<p>593 rows × 7 columns</p>\n",
       "</div>"
      ],
      "text/plain": [
       "         patient location  fold  diagnosis  old_diagnosis all_diagnoses  \\\n",
       "0     Pn_GVA_Co1      GVA     4          0              0           [0]   \n",
       "1     Pn_GVA_Co2      GVA     0          0              0           [0]   \n",
       "2     Pn_GVA_Co3      GVA     1          0              0           [0]   \n",
       "3     Pn_GVA_Co4      GVA     2          0              0           [0]   \n",
       "4     Pn_GVA_Co5      GVA     3          0              0           [0]   \n",
       "..           ...      ...   ...        ...            ...           ...   \n",
       "588  Pn_RBA_Ca27      RBA     4          4             -1           [4]   \n",
       "589  Pn_RBA_Ca28      RBA     0          4             -1           [4]   \n",
       "590  Pn_RBA_Ca33      RBA     1          4             -1           [4]   \n",
       "591  Pn_RBA_Ca34      RBA     2          4             -1           [4]   \n",
       "592  Pn_RBA_Ca35      RBA     3          4             -1           [4]   \n",
       "\n",
       "     multilabel  \n",
       "0         False  \n",
       "1         False  \n",
       "2         False  \n",
       "3         False  \n",
       "4         False  \n",
       "..          ...  \n",
       "588       False  \n",
       "589       False  \n",
       "590       False  \n",
       "591       False  \n",
       "592       False  \n",
       "\n",
       "[593 rows x 7 columns]"
      ]
     },
     "execution_count": 5,
     "metadata": {},
     "output_type": "execute_result"
    }
   ],
   "source": [
    "patient_df"
   ]
  },
  {
   "cell_type": "code",
   "execution_count": 6,
   "metadata": {},
   "outputs": [],
   "source": [
    "exclude = []\n",
    "patient_df = patient_df[~patient_df.diagnosis.isin(exclude)].reset_index(drop=True)"
   ]
  },
  {
   "cell_type": "code",
   "execution_count": 7,
   "metadata": {},
   "outputs": [],
   "source": [
    "#train_loc = [\"GVA\", \"POA\"] \n",
    "#train_loc = [\"GVA\", \"POA\", \"RBA\", \"YAO\"] \n",
    "#exclude = []\n",
    "#folds = [(0,1), (1,2), (2,3), (3,4), (4,0)]\n",
    "#sample_network = \"dense\"\n",
    "#output_file = \"../out/aggregate/{}_agg_D{}_V{}_T{}.csv\"\n",
    "#output_file = \"../features/{}_outputs_D{}_V{}_T{}.npy\""
   ]
  },
  {
   "cell_type": "code",
   "execution_count": 8,
   "metadata": {},
   "outputs": [],
   "source": [
    "def experiment(model):\n",
    "    meta = []\n",
    "    for fold_1, fold_2 in pipeline_config[\"cv_folds\"]: # pipeline_config[\"cv_folds\"] [(0, 1), (1, 2), (2, 3), (3, 4), (4, 0)]\n",
    "        print('#'*25, f\"FOLD {fold_1}-{fold_2}\", '#'*25) \n",
    "        test_meta_1 = multi_class(model, val_fold=fold_1, test_fold=fold_2)\n",
    "        print()\n",
    "        print('#'*25, f\"FOLD {fold_2}-{fold_1}\", '#'*25)\n",
    "        test_meta_2 = multi_class(model, val_fold=fold_2, test_fold=fold_1)\n",
    "        meta += [test_meta_1, test_meta_2]\n",
    "        print()\n",
    "       \n",
    "    internal_meta, external_meta = post_process_predictions(meta)\n",
    "    return internal_meta, external_meta"
   ]
  },
  {
   "cell_type": "code",
   "execution_count": 9,
   "metadata": {},
   "outputs": [],
   "source": [
    "def softmax(x):\n",
    "    \"\"\"Compute softmax values for each sets of scores in x.\"\"\"\n",
    "    return np.exp(x) / np.sum(np.exp(x), axis=1)[:, np.newaxis]\n",
    "\n",
    "\n",
    "def normalize_prob(x):\n",
    "    out = x / np.sum(x, axis=1)[:, np.newaxis]\n",
    "    return out"
   ]
  },
  {
   "cell_type": "code",
   "execution_count": 10,
   "metadata": {},
   "outputs": [],
   "source": [
    "targets = [[0], [1,2], [3,4], [5]]\n",
    "#targets = [[idx for idx in ls if not idx in pipeline_config[\"exclude\"]] for ls in all_targets]\n",
    "\n",
    "def multi_class(model, val_fold, test_fold, targets=targets):\n",
    "    codes = {d: i for i, t in enumerate(targets) for d in t}\n",
    "    \n",
    "    position_df = patient_df.copy()\n",
    "    \n",
    "    loc_selection = (position_df.location.isin(train_loc)).values\n",
    "    val_indices = (position_df.fold == val_fold).values & loc_selection\n",
    "    test_indices = (position_df.fold == test_fold).values | (~loc_selection)\n",
    "\n",
    "    position_df = position_df.assign(set=\"train\")\n",
    "    position_df.loc[val_indices, \"set\"] = \"val\"\n",
    "    position_df.loc[test_indices, \"set\"] = \"test\"\n",
    "    \n",
    "    merged_output_df = None\n",
    "    output_cols = []\n",
    "    \n",
    "    for target in targets:\n",
    "        target_str = '+'.join([str(t) for t in target])\n",
    "        \n",
    "        df_dir = join(pipeline_config[\"out_folder\"], \"aggregate\")\n",
    "        output_df_file = join(df_dir,\n",
    "                              pipeline_config[\"aggregate_file\"].format(pipeline_config[\"network\"][\"feature_model\"], target_str, val_fold, test_fold))\n",
    "        output_df = pd.read_csv(output_df_file)\n",
    "        \n",
    "        if merged_output_df is None:\n",
    "            merged_output_df = output_df\n",
    "        else:\n",
    "            merged_output_df = merged_output_df.merge(output_df, on=[\"patient\", \"position\"])\n",
    "            \n",
    "        output_cols.append(f\"output_{target_str}\")\n",
    "        \n",
    "    #return merged_output_df\n",
    "        \n",
    "    merged_output_df[output_cols] = normalize_prob(merged_output_df[output_cols].values)\n",
    "    position_df = position_df.merge(merged_output_df, on=\"patient\")\n",
    "    \n",
    "    patient_preds, patient_meta = mean_output_dataset(position_df, output_cols)\n",
    "    patient_meta = patient_meta.assign(label=patient_meta.diagnosis.apply(lambda d: codes[d]))\n",
    "    \n",
    "    #return patient_preds, patient_meta\n",
    "    \n",
    "    test_meta = multi_fit(model, patient_preds, patient_meta, targets)\n",
    "    \n",
    "    return test_meta"
   ]
  },
  {
   "cell_type": "code",
   "execution_count": 11,
   "metadata": {},
   "outputs": [],
   "source": [
    "def mean_output_dataset(position_df, output_cols):\n",
    "    all_preds = position_df.pivot(index=\"patient\", columns=\"position\", values=output_cols).dropna()\n",
    "    patient_meta = position_df.drop(columns=[\"position\"]+output_cols).drop_duplicates()\n",
    "    patient_meta = patient_meta.set_index(\"patient\").loc[all_preds.index.values]\n",
    "\n",
    "    return all_preds, patient_meta"
   ]
  },
  {
   "cell_type": "code",
   "execution_count": 12,
   "metadata": {},
   "outputs": [],
   "source": [
    "from sklearn.model_selection import RepeatedStratifiedKFold, GridSearchCV\n",
    "\n",
    "\n",
    "def hyperparameter_tuning(X_train, y_train, train_meta):\n",
    "    # Set the parameters by cross-validation\n",
    "    tuned_parameters = [{\n",
    "        \"C\": np.logspace(-3, 3, 7), \n",
    "        \"penalty\": [\"l1\", \"l2\"],\n",
    "        \"solver\": [\"liblinear\"],\n",
    "        \"class_weight\": [\"balanced\"]\n",
    "    },\n",
    "    {\n",
    "        \"C\": np.logspace(-3, 3, 7), \n",
    "        \"penalty\": [\"l2\"],\n",
    "        \"solver\": [\"newton-cg\", \"lbfgs\"],\n",
    "        \"class_weight\": [\"balanced\"]\n",
    "    }]\n",
    "    \n",
    "    cv = StratifiedKFold(n_splits=4)\n",
    "    cv_list = [(train_idx, test_idx) for train_idx, test_idx in cv.split(X_train, train_meta.diagnosis)]\n",
    "    clf = GridSearchCV(LogisticRegression(), tuned_parameters, scoring=\"recall_macro\", cv=cv_list, n_jobs=-1, error_score=0)\n",
    "    clf.fit(X_train, y_train)\n",
    "    print(\"Best parameters set found on development set:\")\n",
    "    print()\n",
    "    print(clf.best_params_)\n",
    "    print()\n",
    "    \n",
    "    return clf"
   ]
  },
  {
   "cell_type": "code",
   "execution_count": 13,
   "metadata": {},
   "outputs": [],
   "source": [
    "def multi_fit(model, patient_preds, patient_meta, targets):\n",
    "    test_selection = (patient_meta.set == \"test\").values\n",
    "    test_data, test_meta = patient_preds[test_selection], patient_meta[test_selection]\n",
    "    train_data, train_meta = patient_preds[~test_selection], patient_meta[~test_selection]\n",
    "    \n",
    "    X_test, y_test = test_data.values, test_meta.label.values\n",
    "    X_train, y_train = train_data.values, train_meta.label.values\n",
    "    \n",
    "    print(f\"X_train shape: {X_train.shape}\", f\"- X_test.shape: {X_test.shape}\")\n",
    "    \n",
    "    # add hyper-parameter tuning?\n",
    "    model.fit(X_train, y_train)\n",
    "    y_pred = model.predict(X_test)\n",
    "    test_meta = test_meta.assign(prediction=y_pred)\n",
    "    \n",
    "    prob_columns = [f\"probability_{i}\" for i in np.unique(y_train)]\n",
    "    test_meta = test_meta.assign(**{col: 0. for col in prob_columns})\n",
    "        \n",
    "    probs = model.predict_proba(X_test)\n",
    "    test_meta[prob_columns] = np.around(probs, 3)\n",
    "    \n",
    "    return test_meta"
   ]
  },
  {
   "cell_type": "code",
   "execution_count": 14,
   "metadata": {},
   "outputs": [],
   "source": [
    "def post_process_predictions(meta):\n",
    "    internal_meta = []\n",
    "    external_meta = []\n",
    "    \n",
    "    for meta_df in meta:\n",
    "        internal_df = meta_df[meta_df.location.isin(train_loc)].reset_index()\n",
    "        #internal_df = internal_df.assign(prediction=(internal_df.probability > 0.5).astype(int))\n",
    "        internal_meta.append(internal_df)\n",
    "        \n",
    "        external_df = meta_df[~meta_df.location.isin(train_loc)].reset_index()\n",
    "        external_meta.append(external_df)\n",
    "    \n",
    "    external_meta = pd.concat(external_meta)\n",
    "    prob_columns = [f\"probability_{i}\" for i in np.unique(external_meta.label)]\n",
    "    external_meta = external_meta.groupby(['patient', 'location', 'diagnosis', 'label'])[prob_columns].agg(\"mean\")\n",
    "    external_meta = external_meta.assign(prediction=external_meta[prob_columns].values.argmax(axis=1))\n",
    "    external_meta = external_meta.reset_index()\n",
    "    \n",
    "    return internal_meta, external_meta"
   ]
  },
  {
   "cell_type": "code",
   "execution_count": 15,
   "metadata": {},
   "outputs": [],
   "source": [
    "def compute_confusion_matrices(test_meta):\n",
    "    cf_matrices = {}\n",
    "\n",
    "    for location in test_meta.location.unique():\n",
    "        selection = test_meta[test_meta.location == location]\n",
    "        cf_matrices[location] = confusion_matrix(selection.label.values, selection.prediction.values, labels=range(len(targets)))\n",
    "            \n",
    "    return cf_matrices"
   ]
  },
  {
   "cell_type": "code",
   "execution_count": 16,
   "metadata": {},
   "outputs": [],
   "source": [
    "def location_recalls(cf_matrices):\n",
    "    agg_stats = {loc: np.zeros((n_classes, n_classes)) for loc, cf_m in cf_matrices[0].items()}\n",
    "    for fold_stats in cf_matrices:\n",
    "        for loc, cf_m in fold_stats.items():\n",
    "            agg_stats[loc] += cf_m\n",
    "    \n",
    "    agg_df = {}\n",
    "    for loc, loc_stats in agg_stats.items():\n",
    "        recall_vals = np.zeros(len(loc_stats))\n",
    "        for i, r in enumerate(loc_stats):\n",
    "            total_samples = r.sum()\n",
    "            if total_samples == 0:\n",
    "                recall_vals[i] = np.nan\n",
    "            else:\n",
    "                recall_vals[i] = round(r[i] / total_samples, 3)\n",
    "        agg_df[loc] = recall_vals\n",
    "\n",
    "    agg_df = pd.DataFrame.from_dict(agg_df)\n",
    "    agg_df.index = [f\"{i}_diagnosis_recall\" for i in range(len(agg_df))]\n",
    "    \n",
    "    return agg_df"
   ]
  },
  {
   "cell_type": "code",
   "execution_count": 17,
   "metadata": {},
   "outputs": [],
   "source": [
    "def get_recalls(cf_matrix):\n",
    "    class_recalls = np.zeros(n_classes)\n",
    "    for i, r in enumerate(cf_matrix):\n",
    "        total_samples = r.sum()\n",
    "        if total_samples == 0:\n",
    "            class_recalls[i] = np.nan\n",
    "        else:\n",
    "            class_recalls[i] = r[i] / total_samples\n",
    "            \n",
    "    return class_recalls\n",
    "\n",
    "\n",
    "def report_stats(cf_matrices, meta):\n",
    "    internal_cf = []\n",
    "    external_cf = []\n",
    "    \n",
    "    for fold_cfs in cf_matrices:\n",
    "        for loc, cf_m in fold_cfs.items():\n",
    "            if loc in pipeline_config[\"train_loc\"]:\n",
    "                internal_cf.append(cf_m)\n",
    "            else:\n",
    "                external_cf.append(cf_m)\n",
    "                \n",
    "    internal_cf = np.stack(internal_cf).sum(axis=0)\n",
    "    external_cf = np.stack(external_cf).sum(axis=0)\n",
    "    \n",
    "    meta_df = pd.concat(meta).reset_index()\n",
    "    internal_patients = meta_df[meta_df.location.isin(pipeline_config[\"train_loc\"])][[\"patient\", \"diagnosis\"]].drop_duplicates()\n",
    "    internal_total = internal_patients.groupby(\"diagnosis\").size().values\n",
    "    external_patients = meta_df[~meta_df.location.isin(pipeline_config[\"train_loc\"])][[\"patient\", \"diagnosis\"]].drop_duplicates()\n",
    "    external_total = external_patients.groupby(\"diagnosis\").size().values\n",
    "                \n",
    "    internal_recalls = get_recalls(internal_cf)\n",
    "    internal_recalls = [round(100*r, 1) for r in internal_recalls]\n",
    "    print('#'*10, \" & \".join(pipeline_config[\"train_loc\"]),'#'*10)\n",
    "    print(pd.DataFrame.from_dict({cat: [rec, n_patients] for cat, rec, n_patients in zip(classes, internal_recalls, internal_total)}, orient=\"index\", columns=[\"Recall\", \"N\"]))\n",
    "    print()\n",
    "    \n",
    "    external_recalls = get_recalls(external_cf)\n",
    "    external_recalls = [round(100*r, 1) for r in external_recalls]\n",
    "    print('#'*10, \"External validation data\",'#'*10)\n",
    "    print(pd.DataFrame.from_dict({cat: [rec, n_patients] for cat, rec, n_patients in zip(classes, external_recalls, external_total)}, orient=\"index\", columns=[\"Recall\", \"N\"]))"
   ]
  },
  {
   "cell_type": "markdown",
   "metadata": {},
   "source": [
    "### Plotting Results"
   ]
  },
  {
   "cell_type": "code",
   "execution_count": 18,
   "metadata": {},
   "outputs": [],
   "source": [
    "# Import seaborn\n",
    "import seaborn as sns\n",
    "\n",
    "# Apply the default theme\n",
    "sns.set_theme()"
   ]
  },
  {
   "cell_type": "code",
   "execution_count": 19,
   "metadata": {},
   "outputs": [],
   "source": [
    "fontsize = 18  # 18\n",
    "titlesize = 21  # 24\n",
    "plt.rc('font', size=fontsize)          # controls default text sizes\n",
    "plt.rc('axes', titlesize=titlesize)     # fontsize of the axes title\n",
    "plt.rc('axes', labelsize=fontsize)    # fontsize of the x and y labels\n",
    "plt.rc('xtick', labelsize=fontsize)    # fontsize of the tick labels\n",
    "plt.rc('ytick', labelsize=fontsize)    # fontsize of the tick labels\n",
    "plt.rc('legend', fontsize=fontsize)    # legend fontsize\n",
    "plt.rc('figure', titlesize=titlesize)  # fontsize of the figure title"
   ]
  },
  {
   "cell_type": "code",
   "execution_count": 20,
   "metadata": {},
   "outputs": [],
   "source": [
    "def get_mean_cf(cf_matrices):\n",
    "    \n",
    "    internal_cf = []\n",
    "    \n",
    "    for internal_fold_cf in cf_matrices:\n",
    "        internal_fold_cf = internal_fold_cf / internal_fold_cf.sum(axis=1)[:, np.newaxis]\n",
    "        internal_cf.append(internal_fold_cf)\n",
    "        \n",
    "    internal_cf = np.stack(internal_cf).mean(axis=0)\n",
    "    \n",
    "    return internal_cf"
   ]
  },
  {
   "cell_type": "code",
   "execution_count": 21,
   "metadata": {},
   "outputs": [],
   "source": [
    "def plot_confusion_matrix(meta, internal=True):\n",
    "    labels = [\"Control\", \"Pneumonia\", \"Wheezing Dis.\", \"Bronchiolitis\"]\n",
    "    #meta_df = pd.concat(meta)\n",
    "    if internal:\n",
    "        cf_matrices = [confusion_matrix(meta_df.label.values, meta_df.prediction.values, labels=range(len(targets))) for meta_df in meta]\n",
    "        internal_cf = get_mean_cf(cf_matrices)\n",
    "        internal_cf = np.around(internal_cf, 3)\n",
    "    else:\n",
    "        external_cf = confusion_matrix(meta.label.values, meta.prediction.values, labels=range(len(targets)))\n",
    "        external_cf = external_cf / external_cf.sum(axis=1)[:, np.newaxis]\n",
    "        external_cf = np.around(external_cf, 3)\n",
    "    \n",
    "    if internal:\n",
    "        cf = internal_cf\n",
    "        fig_file = \"../images/confusion_matrix_{}.png\".format(\"in\")\n",
    "        title = \"Internal\"\n",
    "        #meta_filter = meta_df.location.isin(pipeline_config[\"train_loc\"])\n",
    "        cmap = \"Blues\"\n",
    "    else:\n",
    "        cf = external_cf\n",
    "        fig_file = \"../images/confusion_matrix_{}.png\".format(\"out\")\n",
    "        title = \"External\"\n",
    "        #meta_filter = ~meta_df.location.isin(pipeline_config[\"train_loc\"])\n",
    "        cmap = \"Greens\"\n",
    "\n",
    "    \"\"\"m_selected = meta_df[meta_filter]\n",
    "    cm = confusion_matrix(m_selected.label, m_selected.prediction)\n",
    "    cm_norm = cm / cm.sum(axis=1)[:, np.newaxis]\n",
    "    cm_norm = 100 * np.around(cm_norm, 3)\"\"\"\n",
    "        \n",
    "    fig, ax = plt.subplots(figsize=(9,7.5))\n",
    "    \n",
    "    # Percentages\n",
    "    sns.heatmap(cf, vmin=0., vmax=1., annot=True, fmt='g', cmap=cmap, ax=ax);  #annot=True to annotate cells, ftm='g' to disable scientific notation\n",
    "    ax.set_xlabel('Predicted labels');\n",
    "    ax.set_ylabel('True labels'); \n",
    "    #ax2.set_title('Confusion Matrix'); \n",
    "    ax.xaxis.set_ticklabels(labels, rotation=45); \n",
    "    ax.yaxis.set_ticklabels(labels, rotation=45);\n",
    "    bottom, top = ax.get_ylim();\n",
    "    #ax.set_title(title);\n",
    "    \n",
    "    # Numbers\n",
    "    \"\"\"sns.heatmap(cm, annot=True, fmt='g', cmap=cmap, ax=ax2);  # cbar=False, \n",
    "    ax2.set_xlabel('Predicted labels');\n",
    "    ax2.set_ylabel('True labels'); \n",
    "    #ax1.set_title('Confusion Matrix'); \n",
    "    ax2.xaxis.set_ticklabels(labels, rotation=45); \n",
    "    ax2.yaxis.set_ticklabels(labels, rotation=45);\n",
    "    bottom, top = ax2.get_ylim();\n",
    "    ax2.set_ylim(bottom + 0.5, top - 0.5);\n",
    "    ax2.set_title(\"Original\");\"\"\"\n",
    "    \n",
    "    #plt.xticks(rotation=90);\n",
    "    #plt.yticks(rotation=0);\n",
    "    #plt.suptitle(title, y=1.05, size=23)\n",
    "    \n",
    "    #plt.tight_layout()\n",
    "    plt.savefig(fig_file, bbox_inches='tight')"
   ]
  },
  {
   "cell_type": "markdown",
   "metadata": {},
   "source": [
    "## Multi-class Classification"
   ]
  },
  {
   "cell_type": "code",
   "execution_count": 22,
   "metadata": {},
   "outputs": [],
   "source": [
    "model = LogisticRegression(random_state=0, class_weight=\"balanced\", multi_class=\"multinomial\")"
   ]
  },
  {
   "cell_type": "code",
   "execution_count": 23,
   "metadata": {},
   "outputs": [
    {
     "name": "stdout",
     "output_type": "stream",
     "text": [
      "######################### FOLD 0-1 #########################\n",
      "X_train shape: (272, 32) - X_test.shape: (231, 32)\n",
      "\n",
      "######################### FOLD 1-0 #########################\n",
      "X_train shape: (264, 32) - X_test.shape: (239, 32)\n",
      "\n",
      "######################### FOLD 0-2 #########################\n",
      "X_train shape: (268, 32) - X_test.shape: (235, 32)\n",
      "\n",
      "######################### FOLD 2-0 #########################\n",
      "X_train shape: (264, 32) - X_test.shape: (239, 32)\n",
      "\n",
      "######################### FOLD 0-3 #########################\n",
      "X_train shape: (272, 32) - X_test.shape: (231, 32)\n",
      "\n",
      "######################### FOLD 3-0 #########################\n",
      "X_train shape: (264, 32) - X_test.shape: (239, 32)\n",
      "\n",
      "######################### FOLD 0-4 #########################\n",
      "X_train shape: (268, 32) - X_test.shape: (235, 32)\n",
      "\n",
      "######################### FOLD 4-0 #########################\n",
      "X_train shape: (264, 32) - X_test.shape: (239, 32)\n",
      "\n",
      "######################### FOLD 1-2 #########################\n",
      "X_train shape: (268, 32) - X_test.shape: (235, 32)\n",
      "\n",
      "######################### FOLD 2-1 #########################\n",
      "X_train shape: (272, 32) - X_test.shape: (231, 32)\n",
      "\n",
      "######################### FOLD 1-3 #########################\n",
      "X_train shape: (272, 32) - X_test.shape: (231, 32)\n",
      "\n",
      "######################### FOLD 3-1 #########################\n",
      "X_train shape: (272, 32) - X_test.shape: (231, 32)\n",
      "\n",
      "######################### FOLD 1-4 #########################\n",
      "X_train shape: (268, 32) - X_test.shape: (235, 32)\n",
      "\n",
      "######################### FOLD 4-1 #########################\n",
      "X_train shape: (272, 32) - X_test.shape: (231, 32)\n",
      "\n",
      "######################### FOLD 2-3 #########################\n",
      "X_train shape: (272, 32) - X_test.shape: (231, 32)\n",
      "\n",
      "######################### FOLD 3-2 #########################\n",
      "X_train shape: (268, 32) - X_test.shape: (235, 32)\n",
      "\n",
      "######################### FOLD 2-4 #########################\n",
      "X_train shape: (268, 32) - X_test.shape: (235, 32)\n",
      "\n",
      "######################### FOLD 4-2 #########################\n",
      "X_train shape: (268, 32) - X_test.shape: (235, 32)\n",
      "\n",
      "######################### FOLD 3-4 #########################\n",
      "X_train shape: (268, 32) - X_test.shape: (235, 32)\n",
      "\n",
      "######################### FOLD 4-3 #########################\n",
      "X_train shape: (272, 32) - X_test.shape: (231, 32)\n",
      "\n"
     ]
    }
   ],
   "source": [
    "internal_meta, external_meta = experiment(model)"
   ]
  },
  {
   "cell_type": "code",
   "execution_count": 24,
   "metadata": {},
   "outputs": [
    {
     "data": {
      "image/png": "[encoded data removed]",
      "text/plain": [
       "<Figure size 648x540 with 2 Axes>"
      ]
     },
     "metadata": {},
     "output_type": "display_data"
    }
   ],
   "source": [
    "plot_confusion_matrix(internal_meta, internal=True)"
   ]
  },
  {
   "cell_type": "code",
   "execution_count": 25,
   "metadata": {},
   "outputs": [
    {
     "data": {
      "image/png": "[encoded data removed]",
      "text/plain": [
       "<Figure size 648x540 with 2 Axes>"
      ]
     },
     "metadata": {},
     "output_type": "display_data"
    }
   ],
   "source": [
    "plot_confusion_matrix(external_meta, internal=False)"
   ]
  },
  {
   "cell_type": "markdown",
   "metadata": {},
   "source": [
    "## Comparing classifiers"
   ]
  },
  {
   "cell_type": "code",
   "execution_count": 54,
   "metadata": {},
   "outputs": [
    {
     "data": {
      "text/plain": [
       "array([[ 0.69923581,  1.0139208 ,  0.04720698,  0.48552429,  0.40424198,\n",
       "         0.44292711, -0.05548497,  0.25616811]])"
      ]
     },
     "execution_count": 54,
     "metadata": {},
     "output_type": "execute_result"
    }
   ],
   "source": [
    "model['linearsvc'].coef_"
   ]
  },
  {
   "cell_type": "code",
   "execution_count": 20,
   "metadata": {},
   "outputs": [],
   "source": [
    "names = [\"Nearest Neighbors\", \"Linear SVM\", \"RBF SVM\",\n",
    "         \"Decision Tree\", \"Random Forest\", \"Neural Net\", \"AdaBoost\",\n",
    "         \"Naive Bayes\", \"QDA\", \"Logistic Regression\"]\n",
    "\n",
    "names = [\"Nearest Neighbors\", \"Linear SVM\", \"RBF SVM\",\n",
    "         \"Naive Bayes\", \"Logistic Regression\"]\n",
    "\n",
    "\"\"\"classifiers = [\n",
    "    KNeighborsClassifier(3),\n",
    "    SVC(kernel=\"linear\", class_weight=\"balanced\"),\n",
    "    SVC(class_weight=\"balanced\"),\n",
    "    DecisionTreeClassifier(max_depth=5, class_weight=\"balanced\"),\n",
    "    RandomForestClassifier(max_depth=5, n_estimators=10, max_features=1, class_weight=\"balanced\"),\n",
    "    MLPClassifier(alpha=1, max_iter=1000),\n",
    "    AdaBoostClassifier(),\n",
    "    GaussianNB(),\n",
    "    QuadraticDiscriminantAnalysis(),\n",
    "    LogisticRegression(class_weight=\"balanced\")]\"\"\"\n",
    "\n",
    "classifiers = [\n",
    "    KNeighborsClassifier(3),\n",
    "    SVC(kernel=\"linear\", class_weight=\"balanced\", probability=True),\n",
    "    SVC(class_weight=\"balanced\", probability=True),\n",
    "    GaussianNB(),\n",
    "    LogisticRegression(class_weight=\"balanced\")]"
   ]
  },
  {
   "cell_type": "code",
   "execution_count": null,
   "metadata": {},
   "outputs": [],
   "source": [
    "model_cf = {}\n",
    "for name, clf in zip(names, classifiers):\n",
    "    print(name, \"Classification\")\n",
    "    model = make_pipeline(clf)\n",
    "    #model = make_pipeline(MinMaxScaler(), clf)\n",
    "    cf_matrices, _ = experiment(model)\n",
    "    #metrics = experiment(model)\n",
    "    model_cf[name] = cf_matrices\n",
    "    print()"
   ]
  },
  {
   "cell_type": "code",
   "execution_count": 22,
   "metadata": {},
   "outputs": [
    {
     "name": "stdout",
     "output_type": "stream",
     "text": [
      "Nearest Neighbors\n",
      "[1, 2, 3, 4, 5]\n",
      "[1, 2, 3, 4, 5]\n",
      "([0.73, 0.761, 0.95, 0.979, 0.943, 0.941], (0.73, 0.91), [0.533, 0.809, 1.0, 0.8, 0.913, 0.958], (0.533, 0.868))\n",
      "\n",
      "Linear SVM\n",
      "[1, 2, 3, 4, 5]\n",
      "[1, 2, 3, 4, 5]\n",
      "([0.819, 0.674, 0.95, 0.966, 0.893, 0.915], (0.819, 0.87), [0.705, 0.702, 1.0, 0.7, 0.87, 0.917], (0.705, 0.792))\n",
      "\n",
      "RBF SVM\n",
      "[1, 2, 3, 4, 5]\n",
      "[1, 2, 3, 4, 5]\n",
      "([0.804, 0.703, 1.0, 0.979, 0.902, 0.91], (0.804, 0.881), [0.68, 0.745, 1.0, 0.7, 0.848, 0.938], (0.68, 0.811))\n",
      "\n",
      "Naive Bayes\n",
      "[1, 2, 3, 4, 5]\n",
      "[1, 2, 3, 4, 5]\n",
      "([0.819, 0.696, 1.0, 0.993, 0.902, 0.926], (0.819, 0.888), [0.689, 0.777, 1.0, 0.8, 0.891, 0.979], (0.689, 0.854))\n",
      "\n",
      "Logistic Regression\n",
      "[1, 2, 3, 4, 5]\n",
      "[1, 2, 3, 4, 5]\n",
      "([0.828, 0.681, 0.95, 0.993, 0.877, 0.915], (0.828, 0.875), [0.697, 0.723, 1.0, 0.7, 0.87, 0.979], (0.697, 0.816))\n",
      "\n"
     ]
    }
   ],
   "source": [
    "for name, cf_matrices in model_cf.items():\n",
    "    print(name)\n",
    "    print(report_stats(cf_matrices))\n",
    "    print()"
   ]
  },
  {
   "cell_type": "code",
   "execution_count": null,
   "metadata": {},
   "outputs": [],
   "source": []
  }
 ],
 "metadata": {
  "kernelspec": {
   "display_name": "Python 3 (ipykernel)",
   "language": "python",
   "name": "python3"
  },
  "language_info": {
   "codemirror_mode": {
    "name": "ipython",
    "version": 3
   },
   "file_extension": ".py",
   "mimetype": "text/x-python",
   "name": "python",
   "nbconvert_exporter": "python",
   "pygments_lexer": "ipython3",
   "version": "3.8.10"
  }
 },
 "nbformat": 4,
 "nbformat_minor": 4
}
